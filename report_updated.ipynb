{
 "cells": [
  {
   "cell_type": "markdown",
   "metadata": {},
   "source": [
    "# Project Proposal: Comparative Analysis of CNN Architectures with SENet Enhancement"
   ]
  },
  {
   "cell_type": "markdown",
   "metadata": {},
   "source": [
    "## Introduction:\n",
    "\n",
    "In the realm of digital pathology, where precision and efficiency are paramount, Convolutional Neural Networks (CNNs) have become increasingly prominent. This project is conceived to rigorously evaluate the performance of three seminal CNN architectures: LeNet, AlexNet, and ResNet. Our evaluation will extend across various image resolutions to ascertain their classification efficacy within the context of pathology image analysis. We will investigate the impact of integrating SENet, thereby potentially enhancing the representational power of CNNs. By juxtaposing these models under distinct conditions—with and without SENet augmentation—we strive to distill insights into the optimal configurations that yield superior classification accuracy and computational efficiency."
   ]
  },
  {
   "cell_type": "markdown",
   "metadata": {},
   "source": [
    "## Dataset and Labels\n",
    "\n",
    "The dataset employed for this study is derived from the PathMNIST dataset, a subset of the larger MedMNIST collection, tailored for pathology-based image classification. The dataset comprises high-resolution images of colorectal cancer and various associated tissue types, each labeled according to the tissue or cell type they represent. Each image will be assign with number 0 to 8. Each number represent different tissues or cancers which show in the following paragraph. source: https://medmnist.com/\n",
    "\n",
    "0: ADI (Adipose tissue); 1: BACK(background); 2: DEB(debris); 3:LYM(lymphocytes); 4: MUC(mucus);5: MUS(sooth muscle);6:NORM(normal colon mucosa);7:STR(cancer-associated stroma); 8: TUM(colorectal adenocarcinoma epithelium.)"
   ]
  },
  {
   "cell_type": "markdown",
   "metadata": {},
   "source": [
    "## Statistical Methods"
   ]
  },
  {
   "cell_type": "markdown",
   "metadata": {},
   "source": [
    "For our analysis, we will use a supervised machine learning approach, employing Convolutional Neural Networks (CNNs) as our primary statistical tool. CNNs are adept at capturing spatial hierarchies in image data by applying trainable filters and pooling layers. We will evaluate three distinct CNN architectures:\n",
    "\n",
    "1. **LeNet:** A pioneer in the field, known for its simplicity and effectiveness in handling lower-resolution images.\n",
    "2. **AlexNet:** A deeper architecture that introduced rectified linear units (ReLUs) and dropout regularization, suitable for higher-resolution images.\n",
    "3. **ResNet:** Utilizes residual connections to train very deep networks, capable of learning complex patterns with a focus on feature reuse.\n",
    "\n",
    "Each model will be assessed with and without the addition of Squeeze-and-Excitation Networks (SENet), which recalibrate channel-wise feature responses by explicitly modeling interdependencies between channels.\n",
    "\n",
    "For evaluation, we will employ standard performance metrics: accuracy, precision, recall, and F1-score. These metrics will provide a comprehensive understanding of model performance, considering both the efficiency and quality of image classification.\n"
   ]
  },
  {
   "cell_type": "markdown",
   "metadata": {},
   "source": [
    "## Computational Steps"
   ]
  },
  {
   "cell_type": "markdown",
   "metadata": {},
   "source": [
    "The project will proceed through the following computational steps:\n",
    "\n",
    "1. **Data Preprocessing:** All images will be resized to conform to the input requirements of each CNN architecture. Data augmentation techniques such as rotations and flips may be applied to increase the robustness of the models.\n",
    "\n",
    "2. **Model Implementation:** Each CNN model will be implemented using the PyTorch framework. For SENet-enhanced models, the corresponding modules will be integrated within the architectures.\n",
    "\n",
    "3. **Training:** Models will be trained using backpropagation with the Adam optimizer, chosen for its adaptive learning rate capabilities. We will use cross-entropy loss as our objective function to guide the learning process. There will be six algorithms with two different image sizes, which gives us 12 parallel jobs.\n",
    "\n",
    "4. **Validation:** Model generalizability will be assessed using a validation set. Early stopping will be employed to prevent overfitting.\n",
    "\n",
    "5. **Hyperparameter Tuning:** Key hyperparameters, such as learning rate and batch size, will be fine-tuned to optimize model performance using the validation set. \n",
    "\n",
    "6. **Testing:** The final step involves evaluating the trained models on a test set to measure their classification performance. \n",
    "\n",
    "7. **Benchmarking:** Models will be benchmarked based on their accuracy and computational efficiency, considering both the training time and the resources consumed.\n",
    "\n",
    "8. **Result Analysis:** We will analyze the confusion matrix and ROC curves for each model to understand their performance in depth, specifically looking into each class's sensitivity and specificity.\n",
    "\n",
    "The computational workflow will be managed using a Jupyter Notebook environment, ensuring reproducibility and ease of collaboration."
   ]
  },
  {
   "cell_type": "markdown",
   "metadata": {},
   "source": [
    "## Data "
   ]
  },
  {
   "cell_type": "code",
   "execution_count": 3,
   "metadata": {},
   "outputs": [
    {
     "data": {
      "image/png": "[encoded data removed]",
      "text/plain": [
       "<Figure size 1080x216 with 5 Axes>"
      ]
     },
     "metadata": {
      "needs_background": "light"
     },
     "output_type": "display_data"
    }
   ],
   "source": [
    "import numpy as np\n",
    "import matplotlib.pyplot as plt\n",
    "from medmnist import PathMNIST\n",
    "from torchvision.transforms.functional import to_pil_image, to_tensor \n",
    "from torchvision import transforms\n",
    "data_dir = 'data/train' \n",
    "dataset = PathMNIST(split='train', root=data_dir, download=False)\n",
    "fig, axes = plt.subplots(1, 5, figsize=(15, 3)) # 1 row, 5 columns\n",
    "for i, ax in enumerate(axes):\n",
    "    # Get the i-th image and its label\n",
    "    img, label = dataset[i]  # img is a PIL image, label is an integer\n",
    "    ax.imshow(np.array(img), cmap='gray')  # Convert the PIL image to a numpy array\n",
    "    ax.set_title(f'Label: {label}')\n",
    "    ax.axis('off')  # Hide the axes\n",
    "plt.show()"
   ]
  },
  {
   "cell_type": "markdown",
   "metadata": {},
   "source": [
    "## GitHub Repository\n",
    "https://github.com/DsMouChao/DSCPproject\n"
   ]
  }
 ],
 "metadata": {
  "kernelspec": {
   "display_name": "base",
   "language": "python",
   "name": "python3"
  },
  "language_info": {
   "codemirror_mode": {
    "name": "ipython",
    "version": 3
   },
   "file_extension": ".py",
   "mimetype": "text/x-python",
   "name": "python",
   "nbconvert_exporter": "python",
   "pygments_lexer": "ipython3",
   "version": "3.9.12"
  }
 },
 "nbformat": 4,
 "nbformat_minor": 2
}
